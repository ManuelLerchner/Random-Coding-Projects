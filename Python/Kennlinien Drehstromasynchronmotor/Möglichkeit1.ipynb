{
 "metadata": {
  "language_info": {
   "codemirror_mode": {
    "name": "ipython",
    "version": 3
   },
   "file_extension": ".py",
   "mimetype": "text/x-python",
   "name": "python",
   "nbconvert_exporter": "python",
   "pygments_lexer": "ipython3",
   "version": "3.8.3"
  },
  "orig_nbformat": 2,
  "kernelspec": {
   "name": "python383jvsc74a57bd09cb2d6b9bc3738be7d4dc0ba6b6ed0ba2f7dfb1c018db34bc656efe7b3395122",
   "display_name": "Python 3.8.3 64-bit"
  },
  "metadata": {
   "interpreter": {
    "hash": "9cb2d6b9bc3738be7d4dc0ba6b6ed0ba2f7dfb1c018db34bc656efe7b3395122"
   }
  }
 },
 "nbformat": 4,
 "nbformat_minor": 2,
 "cells": [
  {
   "cell_type": "code",
   "execution_count": 36,
   "metadata": {},
   "outputs": [],
   "source": [
    "import numpy as np\n",
    "from numpy import sqrt,pi\n",
    "import matplotlib.pyplot as plt\n",
    "import pprint\n",
    "pp = pprint.PrettyPrinter(indent=6, sort_dicts=False)"
   ]
  },
  {
   "cell_type": "code",
   "execution_count": 37,
   "metadata": {},
   "outputs": [],
   "source": [
    "MotorA={\n",
    "    \"Name\":\"Motor A\",\n",
    "    \"I_N\":29,\n",
    "    \"cosPhiK\":0.48,\n",
    "    \"P_cu\":1900,\n",
    "    \"R_s\":0.2,\n",
    "    \"U_N\":400,\n",
    "    \"f\":50,\n",
    "    \"p\":2,\n",
    "    \"P_n\":15000,\n",
    "    \"s_n\":0.03,\n",
    "}\n",
    "\n",
    "MotorB={\n",
    "    \"Name\":\"Motor B\",\n",
    "    \"I_N\":31.5,\n",
    "    \"cosPhiK\":0.51,\n",
    "    \"P_cu\":2400,\n",
    "    \"R_s\":0.14,\n",
    "    \"U_N\":400,\n",
    "    \"f\":50,\n",
    "    \"p\":2,\n",
    "    \"P_n\":15000,\n",
    "    \"s_n\":0.03,\n",
    "}\n",
    "\n",
    "MotorC={\n",
    "    \"Name\":\"Motor C\",\n",
    "    \"I_N\":31,\n",
    "    \"cosPhiK\":0.49,\n",
    "    \"P_cu\":2000,\n",
    "    \"R_s\":0.23,\n",
    "    \"U_N\":400,\n",
    "    \"f\":50,\n",
    "    \"p\":2,\n",
    "    \"P_n\":15000,\n",
    "    \"s_n\":0.03,\n",
    "}\n",
    "\n",
    "Motors=[MotorA,MotorB,MotorC]"
   ]
  },
  {
   "cell_type": "code",
   "execution_count": 38,
   "metadata": {},
   "outputs": [],
   "source": [
    "eta=0.86\n",
    "\n",
    "def calc(Motor):\n",
    "    P_N=Motor[\"P_n\"]\n",
    "    I_N=Motor[\"I_N\"]\n",
    "    U_N=Motor[\"U_N\"]\n",
    "\n",
    "    R_s=Motor[\"R_s\"]\n",
    "    s_n=Motor[\"s_n\"]\n",
    "\n",
    "    P_auf=P_N/eta\n",
    "\n",
    "    cosPhi_n=P_auf/(sqrt(3)*U_N*I_N)\n",
    "\n",
    "    P_cu1=3*R_s*I_N**2\n",
    "\n",
    "    P_drehfeld=P_auf-P_cu1\n",
    "    P_cu2=P_drehfeld*s_n\n",
    "\n",
    "    P_mech=P_drehfeld-P_cu2\n",
    "\n",
    "    M=P_mech/(2*pi*1500/60*(1-s_n))\n",
    "\n",
    "\n",
    "    Motor[\"M_N\"]=np.round(M,decimals=3)\n",
    "    Motor[\"M_A\"]=np.round(2.5*M,decimals=3)\n",
    "    \n"
   ]
  },
  {
   "cell_type": "code",
   "execution_count": 39,
   "metadata": {},
   "outputs": [],
   "source": [
    "for Motor in Motors:\n",
    "    calc(Motor)"
   ]
  },
  {
   "cell_type": "code",
   "execution_count": 40,
   "metadata": {},
   "outputs": [
    {
     "output_type": "stream",
     "name": "stdout",
     "text": [
      "Motor A: M_N= 107.826 Nm\nMotor B: M_N= 108.385 Nm\nMotor C: M_N= 106.817 Nm\n"
     ]
    }
   ],
   "source": [
    "for Motor in Motors:\n",
    "    print(Motor[\"Name\"]+\": M_N=\",Motor[\"M_N\"],\"Nm\")"
   ]
  },
  {
   "cell_type": "code",
   "execution_count": 41,
   "metadata": {},
   "outputs": [
    {
     "output_type": "stream",
     "name": "stdout",
     "text": [
      "Motor A: M_A= 269.565 Nm\nMotor B: M_A= 270.963 Nm\nMotor C: M_A= 267.042 Nm\n"
     ]
    }
   ],
   "source": [
    "for Motor in Motors:\n",
    "    print(Motor[\"Name\"]+\": M_A=\",Motor[\"M_A\"],\"Nm\")"
   ]
  }
 ]
}